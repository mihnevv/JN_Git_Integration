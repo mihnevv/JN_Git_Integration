{
 "cells": [
  {
   "cell_type": "markdown",
   "metadata": {
    "nbgrader": {
     "grade": false,
     "grade_id": "cell-c63b15c4c709146b",
     "locked": true,
     "schema_version": 1,
     "solution": false
    }
   },
   "source": [
    "# Aufgabe 1 \n",
    "\n",
    "Im Rahmen der operativen Planung in einem Handelsunternehmen soll auf der Basis unterschiedlicher\n",
    "Faktoren wie z.B. dem Absatz und dem Lagerbestand berechnet werden, ob eine Handelsware vom\n",
    "Lieferanten beschafft werden muss. \n",
    "\n",
    "Im ersten Schritt soll die Beschaffung lediglich vom Absatz des Vortages abhängen. Hierfür sollen folgende \n",
    "Bedingungen gelten: \n",
    "\n",
    "- Eine Handelsware wird beschafft, wenn am Vortag der Absatz mindestens 100 Stück war. \n",
    "- Die Bestellmenge soll doppelt so groß wie der Absatz sein. \n",
    "\n",
    "Implementieren Sie nun die Funktion `bestellmenge_berechnen`. Die Funktion erhält den Parameter `absatz_vortag`. \n",
    "Der Parameter ist vom Typ Integer und enthält den Absatz des Vortags in Stück. Als Ergebnis soll \n",
    "die Variabe `bestellmenge` berechnet werden. Die Variable `bestellmenge` gibt an wie viele Stücke einer \n",
    "Handelsware beschafft werden soll. Soll die Handelsware aufgrund der oben genannten Bedingungen aktuell nicht\n",
    "beschafft werden soll die `bestellmenge` auf den Wert `0` gesetzt werden. \n",
    "\n",
    "## Wichtige Hinweise\n",
    "Bisher haben Sie im Rahmen dieser Einführung in Python Funktionen noch nicht kennen gelernt. Aus diesem Grund hier ein paar Hinweise zum Umgang mit Funktionen im Rahmen dieser Übungsaufgaben:\n",
    "\n",
    "1. Erstellen Sie Ihre Lösung innerhalb des mit `### START` und `### ENDE` markierten Bereichs. Ändern Sie den Programmcode außerhalb des markierten Bereichs nicht. \n",
    "1. Funktionen besitzen Parameter. Diese Parameter haben Namen. Behandeln Sie die Parameter einfach wie Variablen in Ihrer Lösung. \n",
    "1. Bitte löschen Sie ggf die Zeile `raise NotImplementedError()`\n",
    "\n",
    "## Hilfe\n",
    "Sie können Ihre Lösung mit den automatisierten [Tests](#Automatische-Tests) weiter unten im Dokument überprüfen.<br>\n",
    "Eine Einführung in die `Kontrollstrukturen`in Python finden Sie [hier](../../30_conditionals/10_conditionals.ipynb)."
   ]
  },
  {
   "cell_type": "code",
   "execution_count": null,
   "metadata": {},
   "outputs": [],
   "source": [
    "def bestellmenge_berechnen(absatz_vortag):\n",
    "    ### START\n",
    "\n",
    "    ###BEGIN SOLUTION\n",
    "    #bestellmenge = 0\n",
    "    if absatz_vortag >= 100:\n",
    "        bestellmenge = absatz_vortag * 2\n",
    "    ###END SOLUTION\n",
    "    \n",
    "    ###ENDE\n",
    "    return bestellmenge\n",
    "\n",
    "print(\"Wenn Ihre Funktion mit dem Parameter \\\"absatz_vortag = 500\\\" aufgerufen wird ist das Ergebnis:\", bestellmenge_berechnen(500))"
   ]
  },
  {
   "cell_type": "markdown",
   "metadata": {
    "nbgrader": {
     "grade": false,
     "grade_id": "cell-5ad0fc93c678d720",
     "locked": true,
     "schema_version": 1,
     "solution": false
    }
   },
   "source": [
    "***\n",
    "# Automatische Tests\n",
    "Ab hier finden Sie einige automatisierte Tests um Ihre Lösungen zu überprüfen. Um Ihre Lösung zu prüfen führen Sie bitte zuerst die Zelle mit Ihrer Lösung und danach die Zelle mit dem zugehörigen Test aus.\n"
   ]
  },
  {
   "cell_type": "markdown",
   "metadata": {
    "nbgrader": {
     "grade": false,
     "grade_id": "cell-84bfc5c49589fbc2",
     "locked": true,
     "schema_version": 1,
     "solution": false
    }
   },
   "source": [
    "## Test 1 - Korrekte Bedingung\n",
    "Die Bestellmenge (`bestellmenge`) soll größer als 0 sein wenn von dem Produkt am Vortag (`absatz_vortag`) mindestens 100 Stück verkauft wurde. Ansonsten soll sie gleich 0 sein."
   ]
  },
  {
   "cell_type": "code",
   "execution_count": 1,
   "metadata": {},
   "outputs": [
    {
     "name": "stdout",
     "output_type": "stream",
     "text": [
      "[FEHLER] Es wurde eine Exception vom Type NameError ausgelöst.\n",
      "Stellen Sie sicher, dass die Namen der von Ihnen verwendeten Funktionen korrekt sind.\n",
      "Evtl. müssen Sie die Zelle, in der Ihre Funktion definert ist, neu ausführen.\n",
      "[FEHLER] Es wurde eine Exception vom Type NameError ausgelöst.\n",
      "Stellen Sie sicher, dass die Namen der von Ihnen verwendeten Funktionen korrekt sind.\n",
      "Evtl. müssen Sie die Zelle, in der Ihre Funktion definert ist, neu ausführen.\n"
     ]
    }
   ],
   "source": [
    "import sys\n",
    "sys.path.append(\"../..\")\n",
    "from nose.tools import assert_equal, assert_not_equal\n",
    "from utils import * \n",
    "\n",
    "try:\n",
    "    absatz_vortag = 50\n",
    "    bestellmenge = bestellmenge_berechnen(absatz_vortag)\n",
    "\n",
    "    assert_equal(bestellmenge, 0)\n",
    "    print(\"[OK] Test Bestellmenge = 0 bei Absatz < 100 Stück erfolgreich. \")\n",
    "except AssertionError as e:\n",
    "    print(\"[FEHLER] Die Bestellmenge soll 0 sein wenn der Absatz des Vortags\", absatz_vortag, \"Stück ist.\")\n",
    "    print(\"       \", e)\n",
    "except Exception as e:\n",
    "    print(\"[FEHLER]\", friendly_exceptions.msg(e)) \n",
    "\n",
    "    \n",
    "try:\n",
    "    absatz_vortag = 500\n",
    "    bestellmenge = bestellmenge_berechnen(absatz_vortag)\n",
    "    assert_not_equal(bestellmenge, 0)\n",
    "    print(\"[OK] Test Bestellmenge > 0 bei Absatz > 100 Stück erfolgreich. \")\n",
    "except AssertionError as e:\n",
    "    print(\"[FEHLER] Die Bestellmenge soll größer als 0 sein wenn der Absatz des Vortags\", absatz_vortag, \"ist.\")\n",
    "    print(\"       \", e)\n",
    "except Exception as e:\n",
    "    print(\"[FEHLER]\", friendly_exceptions.msg(e)) "
   ]
  },
  {
   "cell_type": "markdown",
   "metadata": {
    "nbgrader": {
     "grade": false,
     "grade_id": "cell-d6ee668cb5c13cc6",
     "locked": true,
     "schema_version": 1,
     "solution": false
    }
   },
   "source": [
    "## Test 2 - Beachtung der Randfälle\n",
    "Die Bestellmenge (`bestellmenge`) soll größer als 0 sein wenn von dem Produkt am Vortag (absatz_vortag) **mindestens** 100 Stück verkauft wurde.\n",
    "Das heißt, dass bei eimm Absatz von **genau** 100 Stück am Vortag die Bestellmenge 200 Stück sein soll."
   ]
  },
  {
   "cell_type": "code",
   "execution_count": null,
   "metadata": {},
   "outputs": [],
   "source": [
    "import sys\n",
    "sys.path.append(\"../..\")\n",
    "from nose.tools import assert_equal, assert_not_equal\n",
    "from utils import * \n",
    "\n",
    "absatz_vortag = 100\n",
    "bestellmenge = bestellmenge_berechnen(absatz_vortag)\n",
    "try:\n",
    "    assert_equal(bestellmenge, 200)\n",
    "    print(\"[OK] Test Bestellmenge = 200 bei Absatz = 100 Stück erfolgreich. \")\n",
    "except AssertionError as e:\n",
    "    print(\"[FEHLER] Die Bestellmenge soll 200 sein wenn der Absatz des Vortags\", absatz_vortag, \"ist.\")\n",
    "    print(\"       \", e)\n",
    "except Exception as e:\n",
    "    print(\"[FEHLER]\", friendly_exceptions.msg(e)) "
   ]
  },
  {
   "cell_type": "markdown",
   "metadata": {
    "nbgrader": {
     "grade": false,
     "grade_id": "cell-a098fc3d69558863",
     "locked": true,
     "schema_version": 1,
     "solution": false
    }
   },
   "source": [
    "## Test 3 - Korrekte Berechnung der Bestellmenge\n",
    "Die Bestellmenge (`bestellmenge`) soll korrekt berechnet werden. Nämlich als Bestellmenge = 2 * Absatz des Vortags."
   ]
  },
  {
   "cell_type": "code",
   "execution_count": null,
   "metadata": {},
   "outputs": [],
   "source": [
    "import sys\n",
    "sys.path.append(\"../..\")\n",
    "from nose.tools import assert_equal, assert_not_equal\n",
    "from utils import * \n",
    "\n",
    "absatz_vortag = 345\n",
    "bestellmenge = bestellmenge_berechnen(absatz_vortag)\n",
    "try:\n",
    "    assert_equal(bestellmenge, 690)\n",
    "    print(\"[OK] Test Bestellmenge = 690 Stück bei Absatz 100 Stück erfolgreich.\")\n",
    "except AssertionError as e:\n",
    "    print(\"[FEHLER]Das Ergebnis soll 2 mal so groß sein wie \\\"absatz_vortag\\\".\")\n",
    "    print(\"       \", e)\n",
    "except Exception as e:\n",
    "    print(\"[FEHLER]\", friendly_exceptions.msg(e)) "
   ]
  }
 ],
 "metadata": {
  "celltoolbar": "Create Assignment",
  "file_extension": ".py",
  "kernelspec": {
   "display_name": "Python 3",
   "language": "python",
   "name": "python3"
  },
  "language_info": {
   "codemirror_mode": {
    "name": "ipython",
    "version": 3
   },
   "file_extension": ".py",
   "mimetype": "text/x-python",
   "name": "python",
   "nbconvert_exporter": "python",
   "pygments_lexer": "ipython3",
   "version": "3.7.6"
  },
  "mimetype": "text/x-python",
  "name": "python",
  "npconvert_exporter": "python",
  "pygments_lexer": "ipython3",
  "version": 3
 },
 "nbformat": 4,
 "nbformat_minor": 2
}
